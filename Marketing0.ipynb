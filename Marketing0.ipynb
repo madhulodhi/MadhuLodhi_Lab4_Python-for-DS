{
 "cells": [
  {
   "cell_type": "code",
   "execution_count": 1,
   "id": "587e8d2c-f52a-4060-894b-16438b3e124d",
   "metadata": {},
   "outputs": [],
   "source": [
    "import pandas as pd\n",
    "import numpy as np\n",
    "import matplotlib.pyplot as plt\n",
    "import seaborn as sns\n",
    "from sklearn.preprocessing import StandardScaler\n",
    "from sklearn.cluster import KMeans\n",
    "from sklearn.metrics import silhouette_score\n"
   ]
  },
  {
   "cell_type": "code",
   "execution_count": 4,
   "id": "2e9c14f3-68a6-4fa0-b0b8-e0f70c4fb006",
   "metadata": {},
   "outputs": [],
   "source": [
    "# Load the dataset\n",
    "file_path = 'C:/Users/madhu/marketing_campaign.csv'\n",
    "df = pd.read_csv(file_path, sep=';')"
   ]
  },
  {
   "cell_type": "code",
   "execution_count": 5,
   "id": "f0b70995-ca26-4d67-a6a2-2f04267d98ec",
   "metadata": {},
   "outputs": [
    {
     "name": "stdout",
     "output_type": "stream",
     "text": [
      "  ID\\tYear_Birth\\tEducation\\tMarital_Status\\tIncome\\tKidhome\\tTeenhome\\tDt_Customer\\tRecency\\tMntWines\\tMntFruits\\tMntMeatProducts\\tMntFishProducts\\tMntSweetProducts\\tMntGoldProds\\tNumDealsPurchases\\tNumWebPurchases\\tNumCatalogPurchases\\tNumStorePurchases\\tNumWebVisitsMonth\\tAcceptedCmp3\\tAcceptedCmp4\\tAcceptedCmp5\\tAcceptedCmp1\\tAcceptedCmp2\\tComplain\\tZ_CostContact\\tZ_Revenue\\tResponse\n",
      "0  5524\\t1957\\tGraduation\\tSingle\\t58138\\t0\\t0\\t0...                                                                                                                                                                                                                                                                                                                                                  \n",
      "1  2174\\t1954\\tGraduation\\tSingle\\t46344\\t1\\t1\\t0...                                                                                                                                                                                                                                                                                                                                                  \n",
      "2  4141\\t1965\\tGraduation\\tTogether\\t71613\\t0\\t0\\...                                                                                                                                                                                                                                                                                                                                                  \n",
      "3  6182\\t1984\\tGraduation\\tTogether\\t26646\\t1\\t0\\...                                                                                                                                                                                                                                                                                                                                                  \n",
      "4  5324\\t1981\\tPhD\\tMarried\\t58293\\t1\\t0\\t19-01-2...                                                                                                                                                                                                                                                                                                                                                  \n"
     ]
    }
   ],
   "source": [
    "# Display the first 5 rows of the dataframe\n",
    "print(df.head())"
   ]
  },
  {
   "cell_type": "code",
   "execution_count": 6,
   "id": "841fa300-074a-445e-a67e-86b9fd8425c3",
   "metadata": {},
   "outputs": [
    {
     "name": "stdout",
     "output_type": "stream",
     "text": [
      "\n",
      "Info about the dataset:\n",
      "<class 'pandas.core.frame.DataFrame'>\n",
      "RangeIndex: 2240 entries, 0 to 2239\n",
      "Data columns (total 1 columns):\n",
      " #   Column                                                                                                                                                                                                                                                                                                                                                                    Non-Null Count  Dtype \n",
      "---  ------                                                                                                                                                                                                                                                                                                                                                                    --------------  ----- \n",
      " 0   ID\tYear_Birth\tEducation\tMarital_Status\tIncome\tKidhome\tTeenhome\tDt_Customer\tRecency\tMntWines\tMntFruits\tMntMeatProducts\tMntFishProducts\tMntSweetProducts\tMntGoldProds\tNumDealsPurchases\tNumWebPurchases\tNumCatalogPurchases\tNumStorePurchases\tNumWebVisitsMonth\tAcceptedCmp3\tAcceptedCmp4\tAcceptedCmp5\tAcceptedCmp1\tAcceptedCmp2\tComplain\tZ_CostContact\tZ_Revenue\tResponse  2240 non-null   object\n",
      "dtypes: object(1)\n",
      "memory usage: 17.6+ KB\n",
      "None\n"
     ]
    }
   ],
   "source": [
    "# Display summary information about the dataset\n",
    "print(\"\\nInfo about the dataset:\")\n",
    "print(df.info())"
   ]
  },
  {
   "cell_type": "code",
   "execution_count": 7,
   "id": "57dd005f-4a26-4145-9190-e1208b37f9ff",
   "metadata": {},
   "outputs": [
    {
     "name": "stdout",
     "output_type": "stream",
     "text": [
      "\n",
      "Missing values in the dataset:\n",
      "ID\\tYear_Birth\\tEducation\\tMarital_Status\\tIncome\\tKidhome\\tTeenhome\\tDt_Customer\\tRecency\\tMntWines\\tMntFruits\\tMntMeatProducts\\tMntFishProducts\\tMntSweetProducts\\tMntGoldProds\\tNumDealsPurchases\\tNumWebPurchases\\tNumCatalogPurchases\\tNumStorePurchases\\tNumWebVisitsMonth\\tAcceptedCmp3\\tAcceptedCmp4\\tAcceptedCmp5\\tAcceptedCmp1\\tAcceptedCmp2\\tComplain\\tZ_CostContact\\tZ_Revenue\\tResponse    0\n",
      "dtype: int64\n"
     ]
    }
   ],
   "source": [
    "# Check for missing values\n",
    "print(\"\\nMissing values in the dataset:\")\n",
    "print(df.isnull().sum())"
   ]
  },
  {
   "cell_type": "code",
   "execution_count": 8,
   "id": "312e474d-1cf7-404f-9910-1236a44b9184",
   "metadata": {},
   "outputs": [
    {
     "name": "stdout",
     "output_type": "stream",
     "text": [
      "Missing values after filling:\n",
      "ID\\tYear_Birth\\tEducation\\tMarital_Status\\tIncome\\tKidhome\\tTeenhome\\tDt_Customer\\tRecency\\tMntWines\\tMntFruits\\tMntMeatProducts\\tMntFishProducts\\tMntSweetProducts\\tMntGoldProds\\tNumDealsPurchases\\tNumWebPurchases\\tNumCatalogPurchases\\tNumStorePurchases\\tNumWebVisitsMonth\\tAcceptedCmp3\\tAcceptedCmp4\\tAcceptedCmp5\\tAcceptedCmp1\\tAcceptedCmp2\\tComplain\\tZ_CostContact\\tZ_Revenue\\tResponse    0\n",
      "dtype: int64\n"
     ]
    }
   ],
   "source": [
    "### 3. Check the percentage of missing values? If there is presence of missing values, treat them accordingly.\n",
    "# Step 1: Calculate the percentage of missing values in each column\n",
    "missing_percentage = df.isnull().mean() * 100\n",
    "\n",
    "# Step 2: Decide on a strategy to handle missing values\n",
    "# For this demonstration, let's fill missing values with the mean for numerical columns\n",
    "# and with the mode for categorical columns\n",
    "\n",
    "# Identify numerical and categorical columns\n",
    "numerical_cols = df.select_dtypes(include=np.number).columns\n",
    "categorical_cols = df.select_dtypes(include=['object']).columns\n",
    "\n",
    "# Fill missing values\n",
    "df_filled = df.copy()\n",
    "for col in numerical_cols:\n",
    "    df_filled[col].fillna(df[col].mean(), inplace=True)\n",
    "\n",
    "for col in categorical_cols:\n",
    "    df_filled[col].fillna(df[col].mode()[0], inplace=True)\n",
    "\n",
    "# Verify if missing values are filled\n",
    "print(\"Missing values after filling:\")\n",
    "print(df_filled.isnull().sum())\n"
   ]
  },
  {
   "cell_type": "code",
   "execution_count": 11,
   "id": "bf75f220-d6f8-4196-8b4a-5c49ee66c4ab",
   "metadata": {},
   "outputs": [
    {
     "name": "stdout",
     "output_type": "stream",
     "text": [
      "No duplicate records found.\n",
      "Shape of the dataframe after dropping duplicates: (2240, 1)\n"
     ]
    }
   ],
   "source": [
    "### 4. Check if there are any duplicate records in the dataset? If any drop them.\n",
    "# Step 1: Identify duplicate records\n",
    "duplicate_rows = df.duplicated()\n",
    "\n",
    "# Step 2: Drop duplicate records if they exist\n",
    "if duplicate_rows.any():\n",
    "    df.drop_duplicates(inplace=True)\n",
    "    print(\"Duplicate records dropped successfully.\")\n",
    "else:\n",
    "    print(\"No duplicate records found.\")\n",
    "\n",
    "# Confirm the shape of the dataframe after dropping duplicates\n",
    "print(\"Shape of the dataframe after dropping duplicates:\", df.shape)\n"
   ]
  },
  {
   "cell_type": "code",
   "execution_count": 14,
   "id": "436fc13c-a5d7-4f1c-abca-f80376be90e8",
   "metadata": {},
   "outputs": [
    {
     "name": "stdout",
     "output_type": "stream",
     "text": [
      "     ID  Year_Birth   Education Marital_Status   Income  Kidhome  Teenhome  \\\n",
      "0  5524        1957  Graduation         Single  58138.0        0         0   \n",
      "1  2174        1954  Graduation         Single  46344.0        1         1   \n",
      "2  4141        1965  Graduation       Together  71613.0        0         0   \n",
      "3  6182        1984  Graduation       Together  26646.0        1         0   \n",
      "4  5324        1981         PhD        Married  58293.0        1         0   \n",
      "\n",
      "  Dt_Customer  Recency  MntWines  ...  NumWebVisitsMonth  AcceptedCmp3  \\\n",
      "0  04-09-2012       58       635  ...                  7             0   \n",
      "1  08-03-2014       38        11  ...                  5             0   \n",
      "2  21-08-2013       26       426  ...                  4             0   \n",
      "3  10-02-2014       26        11  ...                  6             0   \n",
      "4  19-01-2014       94       173  ...                  5             0   \n",
      "\n",
      "   AcceptedCmp4  AcceptedCmp5  AcceptedCmp1  AcceptedCmp2  Complain  \\\n",
      "0             0             0             0             0         0   \n",
      "1             0             0             0             0         0   \n",
      "2             0             0             0             0         0   \n",
      "3             0             0             0             0         0   \n",
      "4             0             0             0             0         0   \n",
      "\n",
      "   Z_CostContact  Z_Revenue  Response  \n",
      "0              3         11         1  \n",
      "1              3         11         0  \n",
      "2              3         11         0  \n",
      "3              3         11         0  \n",
      "4              3         11         0  \n",
      "\n",
      "[5 rows x 29 columns]\n",
      "\n",
      "Shape of the dataframe after dropping redundant columns: (2240, 27)\n",
      "   Year_Birth   Education Marital_Status   Income  Kidhome  Teenhome  Recency  \\\n",
      "0        1957  Graduation         Single  58138.0        0         0       58   \n",
      "1        1954  Graduation         Single  46344.0        1         1       38   \n",
      "2        1965  Graduation       Together  71613.0        0         0       26   \n",
      "3        1984  Graduation       Together  26646.0        1         0       26   \n",
      "4        1981         PhD        Married  58293.0        1         0       94   \n",
      "\n",
      "   MntWines  MntFruits  MntMeatProducts  ...  NumWebVisitsMonth  AcceptedCmp3  \\\n",
      "0       635         88              546  ...                  7             0   \n",
      "1        11          1                6  ...                  5             0   \n",
      "2       426         49              127  ...                  4             0   \n",
      "3        11          4               20  ...                  6             0   \n",
      "4       173         43              118  ...                  5             0   \n",
      "\n",
      "   AcceptedCmp4  AcceptedCmp5  AcceptedCmp1  AcceptedCmp2  Complain  \\\n",
      "0             0             0             0             0         0   \n",
      "1             0             0             0             0         0   \n",
      "2             0             0             0             0         0   \n",
      "3             0             0             0             0         0   \n",
      "4             0             0             0             0         0   \n",
      "\n",
      "   Z_CostContact  Z_Revenue  Response  \n",
      "0              3         11         1  \n",
      "1              3         11         0  \n",
      "2              3         11         0  \n",
      "3              3         11         0  \n",
      "4              3         11         0  \n",
      "\n",
      "[5 rows x 27 columns]\n"
     ]
    }
   ],
   "source": [
    "### 5. Drop the columns which you think redundant for the analysis \n",
    "#print(\"Columns in the dataset:\")\n",
    "#print(df.columns)\n",
    "# Load the dataset with the correct delimiter\n",
    "df = pd.read_csv(file_path, sep='\\t')\n",
    "\n",
    "# Display the first few rows of the dataframe\n",
    "print(df.head())\n",
    "\n",
    "# Specify redundant columns\n",
    "redundant_columns = ['ID', 'Dt_Customer']\n",
    "\n",
    "# Drop redundant columns from the dataset\n",
    "df_cleaned = df.drop(columns=redundant_columns, axis=1)\n",
    "\n",
    "# Display the first few rows of the cleaned dataset\n",
    "print(\"\\nShape of the dataframe after dropping redundant columns:\", df_cleaned.shape)\n",
    "print(df_cleaned.head())\n"
   ]
  },
  {
   "cell_type": "code",
   "execution_count": 15,
   "id": "debbb6ff-e805-48ad-83ac-5958fae68476",
   "metadata": {},
   "outputs": [
    {
     "name": "stdout",
     "output_type": "stream",
     "text": [
      "Unique categories in 'Marital_Status':\n",
      "['Single' 'Together' 'Married' 'Divorced' 'Widow' 'Alone' 'Absurd' 'YOLO']\n",
      "\n",
      "Unique categories in 'Marital_Status' after grouping:\n",
      "['Single' 'relationship']\n"
     ]
    }
   ],
   "source": [
    "### 6. Check the unique categories in the column 'Marital_Status'\n",
    "#- i) Group categories 'Married', 'Together' as 'relationship'\n",
    "#- ii) Group categories 'Divorced', 'Widow', 'Alone', 'YOLO', and 'Absurd' as 'Single'.\n",
    "# Step 1: Check unique categories in the 'Marital_Status' column\n",
    "unique_categories = df['Marital_Status'].unique()\n",
    "print(\"Unique categories in 'Marital_Status':\")\n",
    "print(unique_categories)\n",
    "\n",
    "# Step 2: Create a mapping dictionary\n",
    "mapping_dict = {\n",
    "    'Married': 'relationship',\n",
    "    'Together': 'relationship',\n",
    "    'Divorced': 'Single',\n",
    "    'Widow': 'Single',\n",
    "    'Alone': 'Single',\n",
    "    'YOLO': 'Single',\n",
    "    'Absurd': 'Single'\n",
    "}\n",
    "\n",
    "# Step 3: Replace categories using the mapping dictionary\n",
    "df['Marital_Status'] = df['Marital_Status'].replace(mapping_dict)\n",
    "\n",
    "# Verify the changes\n",
    "print(\"\\nUnique categories in 'Marital_Status' after grouping:\")\n",
    "print(df['Marital_Status'].unique())\n"
   ]
  },
  {
   "cell_type": "code",
   "execution_count": 16,
   "id": "d2c32ae1-7856-4a7f-932a-a55f311705bb",
   "metadata": {},
   "outputs": [
    {
     "name": "stdout",
     "output_type": "stream",
     "text": [
      "Unique categories in 'Marital_Status':\n",
      "['Single' 'relationship']\n",
      "\n",
      "Unique categories in 'Marital_Status' after grouping:\n",
      "['Single' 'relationship']\n"
     ]
    }
   ],
   "source": [
    "### 7. Group the columns 'MntWines', 'MntFruits', 'MntMeatProducts', 'MntFishProducts', 'MntSweetProducts', and 'MntGoldProds' as 'Total_Expenses'\n",
    "# Step 1: Check unique categories in the 'Marital_Status' column\n",
    "unique_categories = df['Marital_Status'].unique()\n",
    "print(\"Unique categories in 'Marital_Status':\")\n",
    "print(unique_categories)\n",
    "\n",
    "# Step 2: Create a mapping dictionary\n",
    "mapping_dict = {\n",
    "    'Married': 'relationship',\n",
    "    'Together': 'relationship',\n",
    "    'Divorced': 'Single',\n",
    "    'Widow': 'Single',\n",
    "    'Alone': 'Single',\n",
    "    'YOLO': 'Single',\n",
    "    'Absurd': 'Single'\n",
    "}\n",
    "\n",
    "# Step 3: Replace categories using the mapping dictionary\n",
    "df['Marital_Status'] = df['Marital_Status'].replace(mapping_dict)\n",
    "\n",
    "# Verify the changes\n",
    "print(\"\\nUnique categories in 'Marital_Status' after grouping:\")\n",
    "print(df['Marital_Status'].unique())\n"
   ]
  },
  {
   "cell_type": "code",
   "execution_count": 17,
   "id": "4a7c6ab1-2acf-4e64-8206-b4d0f642e26f",
   "metadata": {},
   "outputs": [
    {
     "name": "stdout",
     "output_type": "stream",
     "text": [
      "     ID  Year_Birth   Education Marital_Status   Income  Kidhome  Teenhome  \\\n",
      "0  5524        1957  Graduation         Single  58138.0        0         0   \n",
      "1  2174        1954  Graduation         Single  46344.0        1         1   \n",
      "2  4141        1965  Graduation   relationship  71613.0        0         0   \n",
      "3  6182        1984  Graduation   relationship  26646.0        1         0   \n",
      "4  5324        1981         PhD   relationship  58293.0        1         0   \n",
      "\n",
      "  Dt_Customer  Recency  MntWines  ...  AcceptedCmp3  AcceptedCmp4  \\\n",
      "0  04-09-2012       58       635  ...             0             0   \n",
      "1  08-03-2014       38        11  ...             0             0   \n",
      "2  21-08-2013       26       426  ...             0             0   \n",
      "3  10-02-2014       26        11  ...             0             0   \n",
      "4  19-01-2014       94       173  ...             0             0   \n",
      "\n",
      "   AcceptedCmp5  AcceptedCmp1  AcceptedCmp2  Complain  Z_CostContact  \\\n",
      "0             0             0             0         0              3   \n",
      "1             0             0             0         0              3   \n",
      "2             0             0             0         0              3   \n",
      "3             0             0             0         0              3   \n",
      "4             0             0             0         0              3   \n",
      "\n",
      "   Z_Revenue  Response  Num_Total_Purchases  \n",
      "0         11         1                   25  \n",
      "1         11         0                    6  \n",
      "2         11         0                   21  \n",
      "3         11         0                    8  \n",
      "4         11         0                   19  \n",
      "\n",
      "[5 rows x 30 columns]\n"
     ]
    }
   ],
   "source": [
    "### 8. Group the columns 'NumWebPurchases', 'NumCatalogPurchases', 'NumStorePurchases', and 'NumDealsPurchases' as 'Num_Total_Purchases'\n",
    "# Step 1: Create a new column 'Num_Total_Purchases' by summing the specified columns row-wise\n",
    "df['Num_Total_Purchases'] = df[['NumWebPurchases', 'NumCatalogPurchases', 'NumStorePurchases', 'NumDealsPurchases']].sum(axis=1)\n",
    "\n",
    "# Step 2: Drop the individual purchase columns if needed\n",
    "# df.drop(columns=['NumWebPurchases', 'NumCatalogPurchases', 'NumStorePurchases', 'NumDealsPurchases'], inplace=True)\n",
    "\n",
    "# Display the first few rows of the dataframe to verify the changes\n",
    "print(df.head())\n"
   ]
  },
  {
   "cell_type": "code",
   "execution_count": 18,
   "id": "c4e38df9-359a-4eaf-85ac-1258acd056a2",
   "metadata": {},
   "outputs": [
    {
     "name": "stdout",
     "output_type": "stream",
     "text": [
      "     ID  Year_Birth   Education Marital_Status   Income  Kidhome  Teenhome  \\\n",
      "0  5524        1957  Graduation         Single  58138.0        0         0   \n",
      "1  2174        1954  Graduation         Single  46344.0        1         1   \n",
      "2  4141        1965  Graduation   relationship  71613.0        0         0   \n",
      "3  6182        1984  Graduation   relationship  26646.0        1         0   \n",
      "4  5324        1981         PhD   relationship  58293.0        1         0   \n",
      "\n",
      "  Dt_Customer  Recency  MntWines  ...  AcceptedCmp4  AcceptedCmp5  \\\n",
      "0  04-09-2012       58       635  ...             0             0   \n",
      "1  08-03-2014       38        11  ...             0             0   \n",
      "2  21-08-2013       26       426  ...             0             0   \n",
      "3  10-02-2014       26        11  ...             0             0   \n",
      "4  19-01-2014       94       173  ...             0             0   \n",
      "\n",
      "   AcceptedCmp1  AcceptedCmp2  Complain  Z_CostContact  Z_Revenue  Response  \\\n",
      "0             0             0         0              3         11         1   \n",
      "1             0             0         0              3         11         0   \n",
      "2             0             0         0              3         11         0   \n",
      "3             0             0         0              3         11         0   \n",
      "4             0             0         0              3         11         0   \n",
      "\n",
      "   Num_Total_Purchases  Kids  \n",
      "0                   25     0  \n",
      "1                    6     2  \n",
      "2                   21     0  \n",
      "3                    8     1  \n",
      "4                   19     1  \n",
      "\n",
      "[5 rows x 31 columns]\n"
     ]
    }
   ],
   "source": [
    "### 9. Group the columns 'Kidhome' and 'Teenhome' as 'Kids'\n",
    "# Step 1: Create a new column 'Kids' by summing the values of 'Kidhome' and 'Teenhome' columns row-wise\n",
    "df['Kids'] = df['Kidhome'] + df['Teenhome']\n",
    "\n",
    "# Step 2: Drop the individual 'Kidhome' and 'Teenhome' columns if needed\n",
    "# df.drop(columns=['Kidhome', 'Teenhome'], inplace=True)\n",
    "\n",
    "# Display the first few rows of the dataframe to verify the changes\n",
    "print(df.head())\n"
   ]
  },
  {
   "cell_type": "code",
   "execution_count": 19,
   "id": "6c99e5c0-d98d-42fa-9d20-2efd1bfd705b",
   "metadata": {},
   "outputs": [
    {
     "name": "stdout",
     "output_type": "stream",
     "text": [
      "     ID  Year_Birth   Education Marital_Status   Income  Kidhome  Teenhome  \\\n",
      "0  5524        1957  Graduation         Single  58138.0        0         0   \n",
      "1  2174        1954  Graduation         Single  46344.0        1         1   \n",
      "2  4141        1965  Graduation   relationship  71613.0        0         0   \n",
      "3  6182        1984  Graduation   relationship  26646.0        1         0   \n",
      "4  5324        1981         PhD   relationship  58293.0        1         0   \n",
      "\n",
      "  Dt_Customer  Recency  MntWines  ...  AcceptedCmp5  AcceptedCmp1  \\\n",
      "0  04-09-2012       58       635  ...             0             0   \n",
      "1  08-03-2014       38        11  ...             0             0   \n",
      "2  21-08-2013       26       426  ...             0             0   \n",
      "3  10-02-2014       26        11  ...             0             0   \n",
      "4  19-01-2014       94       173  ...             0             0   \n",
      "\n",
      "   AcceptedCmp2  Complain  Z_CostContact  Z_Revenue  Response  \\\n",
      "0             0         0              3         11         1   \n",
      "1             0         0              3         11         0   \n",
      "2             0         0              3         11         0   \n",
      "3             0         0              3         11         0   \n",
      "4             0         0              3         11         0   \n",
      "\n",
      "   Num_Total_Purchases  Kids  TotalAcceptedCmp  \n",
      "0                   25     0                 1  \n",
      "1                    6     2                 0  \n",
      "2                   21     0                 0  \n",
      "3                    8     1                 0  \n",
      "4                   19     1                 0  \n",
      "\n",
      "[5 rows x 32 columns]\n"
     ]
    }
   ],
   "source": [
    "### 10. Group columns 'AcceptedCmp1 , 2 , 3 , 4, 5' and 'Response' as 'TotalAcceptedCmp'\n",
    "# Step 1: Create a new column 'TotalAcceptedCmp' by summing the values of specified columns row-wise\n",
    "df['TotalAcceptedCmp'] = df[['AcceptedCmp1', 'AcceptedCmp2', 'AcceptedCmp3', 'AcceptedCmp4', 'AcceptedCmp5', 'Response']].sum(axis=1)\n",
    "\n",
    "# Step 2: Drop the individual columns if needed\n",
    "# df.drop(columns=['AcceptedCmp1', 'AcceptedCmp2', 'AcceptedCmp3', 'AcceptedCmp4', 'AcceptedCmp5', 'Response'], inplace=True)\n",
    "\n",
    "# Display the first few rows of the dataframe to verify the changes\n",
    "print(df.head())\n"
   ]
  },
  {
   "cell_type": "code",
   "execution_count": 24,
   "id": "125fe01a-ed24-4dda-96d3-c5796a8f4145",
   "metadata": {},
   "outputs": [
    {
     "name": "stdout",
     "output_type": "stream",
     "text": [
      "     ID  Year_Birth   Education Marital_Status   Income Dt_Customer  Recency  \\\n",
      "0  5524        1957  Graduation         Single  58138.0  04-09-2012       58   \n",
      "1  2174        1954  Graduation         Single  46344.0  08-03-2014       38   \n",
      "2  4141        1965  Graduation   relationship  71613.0  21-08-2013       26   \n",
      "3  6182        1984  Graduation   relationship  26646.0  10-02-2014       26   \n",
      "4  5324        1981         PhD   relationship  58293.0  19-01-2014       94   \n",
      "\n",
      "   NumWebVisitsMonth  Complain  Num_Total_Purchases  Kids  TotalAcceptedCmp  \n",
      "0                  7         0                   25     0                 1  \n",
      "1                  5         0                    6     2                 0  \n",
      "2                  4         0                   21     0                 0  \n",
      "3                  6         0                    8     1                 0  \n",
      "4                  5         0                   19     1                 0  \n"
     ]
    }
   ],
   "source": [
    "### 11. Drop those columns which we have used above for obtaining new features\n",
    "# List of columns to drop\n",
    "#print(df.columns)\n",
    "\n",
    "# Specify the columns to drop\n",
    "columns_to_drop = ['Z_CostContact', 'Z_Revenue']\n",
    "\n",
    "# Drop the columns from the DataFrame\n",
    "df.drop(columns=columns_to_drop, inplace=True)\n",
    "\n",
    "# Display the first few rows of the dataframe to verify the changes\n",
    "print(df.head())\n",
    "\n"
   ]
  },
  {
   "cell_type": "code",
   "execution_count": 25,
   "id": "d1cff4a9-f368-4337-8f39-da4d2a28746a",
   "metadata": {},
   "outputs": [
    {
     "name": "stdout",
     "output_type": "stream",
     "text": [
      "     ID   Education Marital_Status   Income Dt_Customer  Recency  \\\n",
      "0  5524  Graduation         Single  58138.0  04-09-2012       58   \n",
      "1  2174  Graduation         Single  46344.0  08-03-2014       38   \n",
      "2  4141  Graduation   relationship  71613.0  21-08-2013       26   \n",
      "3  6182  Graduation   relationship  26646.0  10-02-2014       26   \n",
      "4  5324         PhD   relationship  58293.0  19-01-2014       94   \n",
      "\n",
      "   NumWebVisitsMonth  Complain  Num_Total_Purchases  Kids  TotalAcceptedCmp  \\\n",
      "0                  7         0                   25     0                 1   \n",
      "1                  5         0                    6     2                 0   \n",
      "2                  4         0                   21     0                 0   \n",
      "3                  6         0                    8     1                 0   \n",
      "4                  5         0                   19     1                 0   \n",
      "\n",
      "   Age  \n",
      "0   67  \n",
      "1   70  \n",
      "2   59  \n",
      "3   40  \n",
      "4   43  \n"
     ]
    }
   ],
   "source": [
    "### 12. Extract 'age' using the column 'Year_Birth' and then drop the column 'Year_birth'\n",
    "# Calculate age from 'Year_Birth' column\n",
    "current_year = 2024  # Assuming current year is 2024\n",
    "df['Age'] = current_year - df['Year_Birth']\n",
    "\n",
    "# Drop the 'Year_Birth' column\n",
    "df.drop(columns=['Year_Birth'], inplace=True)\n",
    "\n",
    "# Display the first few rows of the dataframe to verify the changes\n",
    "print(df.head())\n"
   ]
  },
  {
   "cell_type": "code",
   "execution_count": 26,
   "id": "a8564b12-20f1-40fd-a801-7986b5fd88eb",
   "metadata": {},
   "outputs": [
    {
     "name": "stdout",
     "output_type": "stream",
     "text": [
      "     ID   Income Dt_Customer  Recency  NumWebVisitsMonth  Complain  \\\n",
      "0  5524  58138.0  04-09-2012       58                  7         0   \n",
      "1  2174  46344.0  08-03-2014       38                  5         0   \n",
      "2  4141  71613.0  21-08-2013       26                  4         0   \n",
      "3  6182  26646.0  10-02-2014       26                  6         0   \n",
      "4  5324  58293.0  19-01-2014       94                  5         0   \n",
      "\n",
      "   Num_Total_Purchases  Kids  TotalAcceptedCmp  Age  Education_2n Cycle  \\\n",
      "0                   25     0                 1   67               False   \n",
      "1                    6     2                 0   70               False   \n",
      "2                   21     0                 0   59               False   \n",
      "3                    8     1                 0   40               False   \n",
      "4                   19     1                 0   43               False   \n",
      "\n",
      "   Education_Basic  Education_Graduation  Education_Master  Education_PhD  \\\n",
      "0            False                  True             False          False   \n",
      "1            False                  True             False          False   \n",
      "2            False                  True             False          False   \n",
      "3            False                  True             False          False   \n",
      "4            False                 False             False           True   \n",
      "\n",
      "   Marital_Status_Single  Marital_Status_relationship  \n",
      "0                   True                        False  \n",
      "1                   True                        False  \n",
      "2                  False                         True  \n",
      "3                  False                         True  \n",
      "4                  False                         True  \n"
     ]
    }
   ],
   "source": [
    "### 13. Encode the categorical variables in the dataset\n",
    "# Perform one-hot encoding for categorical variables\n",
    "df_encoded = pd.get_dummies(df, columns=['Education', 'Marital_Status'])\n",
    "\n",
    "# Display the first few rows of the encoded dataframe\n",
    "print(df_encoded.head())\n"
   ]
  },
  {
   "cell_type": "code",
   "execution_count": 27,
   "id": "47e60ea1-bffc-41ab-ae76-22d59f7d8360",
   "metadata": {},
   "outputs": [
    {
     "name": "stdout",
     "output_type": "stream",
     "text": [
      "     ID    Income Dt_Customer   Recency  NumWebVisitsMonth  Complain  \\\n",
      "0  5524  0.234063  04-09-2012  0.307039           0.693904 -0.097282   \n",
      "1  2174 -0.234559  08-03-2014 -0.383664          -0.130463 -0.097282   \n",
      "2  4141  0.769478  21-08-2013 -0.798086          -0.542647 -0.097282   \n",
      "3  6182 -1.017239  10-02-2014 -0.798086           0.281720 -0.097282   \n",
      "4  5324  0.240221  19-01-2014  1.550305          -0.130463 -0.097282   \n",
      "\n",
      "   Num_Total_Purchases      Kids  TotalAcceptedCmp       Age  \\\n",
      "0             1.320826 -1.264505          0.621248  0.985345   \n",
      "1            -1.154596  1.396361         -0.501912  1.235733   \n",
      "2             0.799685 -1.264505         -0.501912  0.317643   \n",
      "3            -0.894025  0.065928         -0.501912 -1.268149   \n",
      "4             0.539114  0.065928         -0.501912 -1.017761   \n",
      "\n",
      "   Education_2n Cycle  Education_Basic  Education_Graduation  \\\n",
      "0               False            False                  True   \n",
      "1               False            False                  True   \n",
      "2               False            False                  True   \n",
      "3               False            False                  True   \n",
      "4               False            False                 False   \n",
      "\n",
      "   Education_Master  Education_PhD  Marital_Status_Single  \\\n",
      "0             False          False                   True   \n",
      "1             False          False                   True   \n",
      "2             False          False                  False   \n",
      "3             False          False                  False   \n",
      "4             False           True                  False   \n",
      "\n",
      "   Marital_Status_relationship  \n",
      "0                        False  \n",
      "1                        False  \n",
      "2                         True  \n",
      "3                         True  \n",
      "4                         True  \n"
     ]
    }
   ],
   "source": [
    "### 14. Standardize the columns, so that values are in a particular range\n",
    "from sklearn.preprocessing import StandardScaler\n",
    "\n",
    "# Initialize the StandardScaler\n",
    "scaler = StandardScaler()\n",
    "\n",
    "# Standardize the numerical columns\n",
    "numerical_columns = ['Income', 'Recency', 'Num_Total_Purchases', 'NumWebVisitsMonth', 'Complain', 'Kids', 'TotalAcceptedCmp', 'Age']\n",
    "df_encoded[numerical_columns] = scaler.fit_transform(df_encoded[numerical_columns])\n",
    "\n",
    "# Display the first few rows of the standardized dataframe\n",
    "print(df_encoded.head())\n"
   ]
  },
  {
   "cell_type": "code",
   "execution_count": 48,
   "id": "07d219f5-0112-46ac-94f5-6158128578ab",
   "metadata": {},
   "outputs": [
    {
     "data": {
      "image/png": "[encoded data removed]",
      "text/plain": [
       "<Figure size 640x480 with 1 Axes>"
      ]
     },
     "metadata": {},
     "output_type": "display_data"
    },
    {
     "name": "stdout",
     "output_type": "stream",
     "text": [
      "Number of components for 90% variance explained: 1\n",
      "Number of components for 95% variance explained: 1\n"
     ]
    }
   ],
   "source": [
    "### 15. Apply PCA on the above dataset and determine the number of PCA components to be used so that 90-95% of the variance in data is explained by the same.\n",
    "\n",
    "from sklearn.impute import SimpleImputer\n",
    "from sklearn.decomposition import PCA\n",
    "import numpy as np\n",
    "import matplotlib.pyplot as plt\n",
    "\n",
    "# Initialize the imputer\n",
    "imputer = SimpleImputer(strategy='mean')  # You can choose 'median' or 'most_frequent' as well\n",
    "\n",
    "# Impute missing values\n",
    "df_imputed = imputer.fit_transform(df_encoded)\n",
    "\n",
    "# Initialize PCA\n",
    "pca = PCA()\n",
    "\n",
    "# Fit PCA to the imputed data\n",
    "pca.fit(df_imputed)\n",
    "\n",
    "# Calculate cumulative explained variance\n",
    "cumulative_variance = np.cumsum(pca.explained_variance_ratio_)\n",
    "\n",
    "# Plot cumulative explained variance\n",
    "plt.plot(cumulative_variance, marker='o', linestyle='-')\n",
    "plt.xlabel('Number of Components')\n",
    "plt.ylabel('Cumulative Explained Variance')\n",
    "plt.title('Explained Variance vs Number of Components')\n",
    "plt.grid(True)\n",
    "plt.show()\n",
    "\n",
    "# Determine the number of components for 90-95% variance explained\n",
    "n_components_90 = np.argmax(cumulative_variance >= 0.90) + 1\n",
    "n_components_95 = np.argmax(cumulative_variance >= 0.95) + 1\n",
    "\n",
    "print(f\"Number of components for 90% variance explained: {n_components_90}\")\n",
    "print(f\"Number of components for 95% variance explained: {n_components_95}\")\n",
    "\n"
   ]
  },
  {
   "cell_type": "code",
   "execution_count": 49,
   "id": "6778a43d-7b27-475d-b6a0-2a48c5f2ee83",
   "metadata": {},
   "outputs": [
    {
     "name": "stderr",
     "output_type": "stream",
     "text": [
      "C:\\Users\\madhu\\anaconda3\\Lib\\site-packages\\sklearn\\cluster\\_kmeans.py:870: FutureWarning: The default value of `n_init` will change from 10 to 'auto' in 1.4. Set the value of `n_init` explicitly to suppress the warning\n",
      "  warnings.warn(\n",
      "C:\\Users\\madhu\\anaconda3\\Lib\\site-packages\\sklearn\\cluster\\_kmeans.py:1382: UserWarning: KMeans is known to have a memory leak on Windows with MKL, when there are less chunks than available threads. You can avoid it by setting the environment variable OMP_NUM_THREADS=9.\n",
      "  warnings.warn(\n"
     ]
    },
    {
     "name": "stdout",
     "output_type": "stream",
     "text": [
      "     ID    Income   Recency  NumWebVisitsMonth  Complain  Num_Total_Purchases  \\\n",
      "0  5524  0.234063  0.307039           0.693904 -0.097282             1.320826   \n",
      "1  2174 -0.234559 -0.383664          -0.130463 -0.097282            -1.154596   \n",
      "2  4141  0.769478 -0.798086          -0.542647 -0.097282             0.799685   \n",
      "3  6182 -1.017239 -0.798086           0.281720 -0.097282            -0.894025   \n",
      "4  5324  0.240221  1.550305          -0.130463 -0.097282             0.539114   \n",
      "\n",
      "       Kids  TotalAcceptedCmp       Age  Education_2n Cycle  Education_Basic  \\\n",
      "0 -1.264505          0.621248  0.985345               False            False   \n",
      "1  1.396361         -0.501912  1.235733               False            False   \n",
      "2 -1.264505         -0.501912  0.317643               False            False   \n",
      "3  0.065928         -0.501912 -1.268149               False            False   \n",
      "4  0.065928         -0.501912 -1.017761               False            False   \n",
      "\n",
      "   Education_Graduation  Education_Master  Education_PhD  \\\n",
      "0                  True             False          False   \n",
      "1                  True             False          False   \n",
      "2                  True             False          False   \n",
      "3                  True             False          False   \n",
      "4                 False             False           True   \n",
      "\n",
      "   Marital_Status_Single  Marital_Status_relationship  Cluster  \n",
      "0                   True                        False        1  \n",
      "1                   True                        False        4  \n",
      "2                  False                         True        2  \n",
      "3                  False                         True        1  \n",
      "4                  False                         True        1  \n"
     ]
    }
   ],
   "source": [
    "### 16. Apply K-means clustering and segment the data (Use PCA transformed data for clustering)\n",
    "\n",
    "from sklearn.impute import SimpleImputer\n",
    "from sklearn.decomposition import PCA\n",
    "from sklearn.cluster import KMeans\n",
    "import numpy as np\n",
    "\n",
    "# Step 1: Impute missing values\n",
    "imputer = SimpleImputer(strategy='mean')  # You can choose other strategies as well\n",
    "df_imputed = imputer.fit_transform(df_encoded)\n",
    "\n",
    "# Step 2: Apply PCA\n",
    "pca = PCA()\n",
    "X_pca = pca.fit_transform(df_imputed)\n",
    "\n",
    "# Step 3: Apply K-means clustering\n",
    "kmeans = KMeans(n_clusters=5, random_state=42)  # Adjust the number of clusters as needed\n",
    "kmeans.fit(X_pca)\n",
    "\n",
    "# Step 4: Assign cluster labels\n",
    "cluster_labels = kmeans.labels_\n",
    "\n",
    "# Step 5: Add cluster labels to the DataFrame\n",
    "df_encoded['Cluster'] = cluster_labels\n",
    "\n",
    "# Display the DataFrame with cluster labels\n",
    "print(df_encoded.head())\n"
   ]
  },
  {
   "cell_type": "code",
   "execution_count": null,
   "id": "b9f34fc3-1a5f-44ba-bc53-78aec289dad1",
   "metadata": {},
   "outputs": [],
   "source": [
    "### 17. Apply Agglomerative clustering and segment the data (Use Original data for clustering), and perform cluster analysis by doing bivariate analysis between the cluster label and different features and write your observations.\n",
    "from sklearn.cluster import AgglomerativeClustering\n",
    "import seaborn as sns\n",
    "import matplotlib.pyplot as plt\n",
    "\n",
    "# Step 1: Apply Agglomerative clustering on the original dataset\n",
    "# Initialize Agglomerative clustering with the desired number of clusters\n",
    "agg_clustering = AgglomerativeClustering(n_clusters=5)  # Adjust the number of clusters as needed\n",
    "\n",
    "# Fit Agglomerative clustering to the original data\n",
    "agg_labels = agg_clustering.fit_predict(df_encoded.drop(columns=['Cluster']))\n",
    "\n",
    "# Step 2: Perform bivariate analysis\n",
    "# Add cluster labels to the DataFrame\n",
    "df_encoded['Agg_Cluster'] = agg_labels\n",
    "\n",
    "# Step 3: Visualize the clusters\n",
    "# Plot bivariate analysis between cluster label and different features\n",
    "sns.pairplot(df_encoded, hue='Agg_Cluster', diag_kind='kde')\n",
    "plt.show()\n",
    "\n"
   ]
  },
  {
   "cell_type": "code",
   "execution_count": null,
   "id": "6d18ed2e-0f68-4bf1-9510-873d46c9794f",
   "metadata": {},
   "outputs": [],
   "source": []
  }
 ],
 "metadata": {
  "kernelspec": {
   "display_name": "Python 3 (ipykernel)",
   "language": "python",
   "name": "python3"
  },
  "language_info": {
   "codemirror_mode": {
    "name": "ipython",
    "version": 3
   },
   "file_extension": ".py",
   "mimetype": "text/x-python",
   "name": "python",
   "nbconvert_exporter": "python",
   "pygments_lexer": "ipython3",
   "version": "3.11.7"
  }
 },
 "nbformat": 4,
 "nbformat_minor": 5
}
